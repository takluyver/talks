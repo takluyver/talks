{
 "cells": [
  {
   "cell_type": "markdown",
   "metadata": {
    "slideshow": {
     "slide_type": "slide"
    }
   },
   "source": [
    "# New features in Python 3.5\n",
    "\n",
    "12 August 2015, *Thomas Kluyver*"
   ]
  },
  {
   "cell_type": "code",
   "execution_count": 1,
   "metadata": {
    "collapsed": false
   },
   "outputs": [
    {
     "data": {
      "text/plain": [
       "'3.5.0rc1 (default, Aug 11 2015, 16:30:34) \\n[GCC 4.9.2]'"
      ]
     },
     "execution_count": 1,
     "metadata": {},
     "output_type": "execute_result"
    }
   ],
   "source": [
    "import sys\n",
    "sys.version"
   ]
  },
  {
   "cell_type": "markdown",
   "metadata": {},
   "source": [
    "Target release date: **September 13, 2015** (PEP 478)"
   ]
  },
  {
   "cell_type": "markdown",
   "metadata": {
    "slideshow": {
     "slide_type": "slide"
    }
   },
   "source": [
    "## Type Hinting\n",
    "\n",
    "[PEP 484](https://www.python.org/dev/peps/pep-0484/)"
   ]
  },
  {
   "cell_type": "code",
   "execution_count": 2,
   "metadata": {
    "collapsed": true
   },
   "outputs": [],
   "source": [
    "def greeting(name: str) -> str:\n",
    "    return 'Hello, ' + name"
   ]
  },
  {
   "cell_type": "markdown",
   "metadata": {},
   "source": [
    "And a new `typing` module to specify more complex type hints:"
   ]
  },
  {
   "cell_type": "code",
   "execution_count": 3,
   "metadata": {
    "collapsed": true
   },
   "outputs": [],
   "source": [
    "from typing import Sequence, TypeVar\n",
    "T = TypeVar('T')      # Declare type variable\n",
    "\n",
    "def first(l: Sequence[T]) -> T:   # Generic function\n",
    "    return l[0]"
   ]
  },
  {
   "cell_type": "markdown",
   "metadata": {},
   "source": [
    "* No effect on how code is run\n",
    "* Benefits linters, IDEs, etc."
   ]
  },
  {
   "cell_type": "markdown",
   "metadata": {
    "slideshow": {
     "slide_type": "slide"
    }
   },
   "source": [
    "## Async & await keywords\n",
    "\n",
    "[PEP 492](https://www.python.org/dev/peps/pep-0492/)"
   ]
  },
  {
   "cell_type": "code",
   "execution_count": 4,
   "metadata": {
    "collapsed": true
   },
   "outputs": [],
   "source": [
    "async def read_data(db):\n",
    "    async with db.transaction():\n",
    "        data = await db.fetch('SELECT ...')"
   ]
  },
  {
   "cell_type": "markdown",
   "metadata": {},
   "source": [
    "* Less surprising syntax for asyncio coroutines (`yield from`)\n",
    "* Asynchronous `with` blocks and `for` loops\n",
    "* More in another lightning talk!"
   ]
  },
  {
   "cell_type": "markdown",
   "metadata": {
    "collapsed": true,
    "slideshow": {
     "slide_type": "slide"
    }
   },
   "source": [
    "## Matrix multiplication\n",
    "\n",
    "[PEP 465](https://www.python.org/dev/peps/pep-0465/)\n",
    "\n",
    "\n",
    "$ S = ( H β − r )^T ( H V H ^T ) ^{−1} ( H β − r )$"
   ]
  },
  {
   "cell_type": "code",
   "execution_count": null,
   "metadata": {
    "collapsed": false,
    "scrolled": true
   },
   "outputs": [],
   "source": [
    "from numpy.linalg import inv, solve\n",
    "S = (H.dot(beta) - r).T.dot(inv(H.dot(V).dot(H.T))).dot(H.dot(beta) - r)\n",
    "# becomes\n",
    "S = (H @ beta - r).T @ inv(H @ V @ H.T) @ (H @ beta - r)"
   ]
  },
  {
   "cell_type": "markdown",
   "metadata": {
    "slideshow": {
     "slide_type": "slide"
    }
   },
   "source": [
    "## subprocess.run\n",
    "\n",
    "Not a PEP, but a personal favourite."
   ]
  },
  {
   "cell_type": "code",
   "execution_count": 9,
   "metadata": {
    "collapsed": false
   },
   "outputs": [
    {
     "name": "stdout",
     "output_type": "stream",
     "text": [
      "Exit code: 0\n",
      "stdout:\n",
      " M \"Python 3.5 lightning talk.ipynb\"\n",
      "?? .ipynb_checkpoints/\n",
      "\n"
     ]
    }
   ],
   "source": [
    "import subprocess\n",
    "res = subprocess.run(['git', 'status', '--porcelain'], stdout=subprocess.PIPE)\n",
    "print('Exit code:', res.returncode)\n",
    "print('stdout:')\n",
    "print(res.stdout.decode('utf-8'))"
   ]
  },
  {
   "cell_type": "markdown",
   "metadata": {
    "slideshow": {
     "slide_type": "slide"
    }
   },
   "source": [
    "# Thank you\n",
    "\n",
    "----\n",
    "\n",
    "### Also, goodbye!"
   ]
  }
 ],
 "metadata": {
  "celltoolbar": "Slideshow",
  "kernelspec": {
   "display_name": "Python 3.5",
   "language": "python",
   "name": "python35"
  },
  "language_info": {
   "codemirror_mode": {
    "name": "ipython",
    "version": 3
   },
   "file_extension": ".py",
   "mimetype": "text/x-python",
   "name": "python",
   "nbconvert_exporter": "python",
   "pygments_lexer": "ipython3",
   "version": "3.5.0rc1"
  }
 },
 "nbformat": 4,
 "nbformat_minor": 0
}
